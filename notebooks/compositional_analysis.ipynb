{
 "cells": [
  {
   "cell_type": "markdown",
   "id": "6442228f",
   "metadata": {},
   "source": [
    "# Compositional analysis"
   ]
  },
  {
   "cell_type": "code",
   "execution_count": 1,
   "id": "7f339003",
   "metadata": {},
   "outputs": [
    {
     "name": "stderr",
     "output_type": "stream",
     "text": [
      "2022-03-31 16:00:53.579448: W tensorflow/stream_executor/platform/default/dso_loader.cc:64] Could not load dynamic library 'libcudart.so.11.0'; dlerror: libcudart.so.11.0: cannot open shared object file: No such file or directory\n",
      "2022-03-31 16:00:53.579487: I tensorflow/stream_executor/cuda/cudart_stub.cc:29] Ignore above cudart dlerror if you do not have a GPU set up on your machine.\n"
     ]
    }
   ],
   "source": [
    "# Setup\n",
    "import warnings\n",
    "warnings.filterwarnings(\"ignore\")\n",
    "\n",
    "import pandas as pd\n",
    "import pickle as pkl\n",
    "import matplotlib.pyplot as plt\n",
    "\n",
    "from sccoda.util import comp_ana as mod\n",
    "from sccoda.util import cell_composition_data as dat\n",
    "from sccoda.util import data_visualization as viz\n",
    "\n",
    "import sccoda.datasets as scd\n",
    "\n",
    "import scanpy as sc"
   ]
  },
  {
   "cell_type": "code",
   "execution_count": 2,
   "id": "9dcc2728",
   "metadata": {},
   "outputs": [],
   "source": [
    "adata_f = '/storage/scratch/users/ciro.suastegui/ipsc_ipd_patients_final.h5ad'\n",
    "adata_f = '/storage/groups/ml01/workspace/malte.luecken/2019_wurst_demuxlet/Main_study/processed_data/ipsc_ipd_patients_final.h5ad'"
   ]
  },
  {
   "cell_type": "code",
   "execution_count": 3,
   "id": "e9b41f6d",
   "metadata": {},
   "outputs": [],
   "source": [
    "adata = sc.read(adata_f)"
   ]
  },
  {
   "cell_type": "code",
   "execution_count": 4,
   "id": "ca512629",
   "metadata": {},
   "outputs": [
    {
     "data": {
      "text/plain": [
       "AnnData object with n_obs × n_vars = 30557 × 24920\n",
       "    obs: 'Demux_state', 'Donor', 'Lane', 'Number of genes', 'Total counts', 'age', 'condition', 'donor', 'gender', 'log_counts', 'mt_frac', 'n_counts', 'n_genes', 'size_factors', 'total_counts', 'years_of_illness', 'S_score', 'G2M_score', 'phase', 'louvain_r1', 'louvain_r0.5', 'louvain_r0.2', 'score', 'louvain_r0.2_0_sub', 'louvain_r0.2_0_4_sub', 'louvain_r0.2_0_3_sub', 'dpt_pseudotime', 'louvain_r0.2_noCC', 'louvain_final', 'Ferroptosis_pos_raw', 'Ferroptosis_pos_corr', 'Ferroptosis_neg_raw', 'Ferroptosis_neg_corr', 'Apoptosis_pos_raw', 'Apoptosis_pos_corr', 'Apoptosis_neg_raw', 'Apoptosis_neg_corr', 'Necroptosis_pos_raw', 'Necroptosis_pos_corr', 'Autophagy_pos_raw', 'Autophagy_pos_corr', 'Pathanatos_pos_raw', 'Pathanatos_pos_corr', 'louvain_final_abbrev'\n",
       "    var: 'highly_variable', 'means', 'dispersions', 'dispersions_norm'\n",
       "    uns: 'Donor_colors', 'condition_colors', 'gender_colors', 'louvain', 'louvain_final_abbrev_colors', 'louvain_final_colors', 'louvain_r0.2_0_3_sub_colors', 'louvain_r0.2_0_4_sub_colors', 'louvain_r0.2_0_sub_colors', 'louvain_r0.2_colors', 'louvain_r0.5_colors', 'louvain_r1_colors', 'neighbors', 'pca', 'phase_colors'\n",
       "    obsm: 'X_pca', 'X_umap'\n",
       "    varm: 'PCs'\n",
       "    layers: 'counts'\n",
       "    obsp: 'distances', 'connectivities'"
      ]
     },
     "execution_count": 4,
     "metadata": {},
     "output_type": "execute_result"
    }
   ],
   "source": [
    "adata"
   ]
  },
  {
   "cell_type": "markdown",
   "id": "e2921697",
   "metadata": {},
   "source": [
    "### Create object"
   ]
  },
  {
   "cell_type": "code",
   "execution_count": 5,
   "id": "042df3c8",
   "metadata": {},
   "outputs": [
    {
     "data": {
      "text/html": [
       "<div>\n",
       "<style scoped>\n",
       "    .dataframe tbody tr th:only-of-type {\n",
       "        vertical-align: middle;\n",
       "    }\n",
       "\n",
       "    .dataframe tbody tr th {\n",
       "        vertical-align: top;\n",
       "    }\n",
       "\n",
       "    .dataframe thead th {\n",
       "        text-align: right;\n",
       "    }\n",
       "</style>\n",
       "<table border=\"1\" class=\"dataframe\">\n",
       "  <thead>\n",
       "    <tr style=\"text-align: right;\">\n",
       "      <th>louvain_final</th>\n",
       "      <th>Glial precursors</th>\n",
       "      <th>Immature neurons</th>\n",
       "      <th>NCSC</th>\n",
       "      <th>NSC1a</th>\n",
       "      <th>NSC1b</th>\n",
       "      <th>NSC2a</th>\n",
       "      <th>NSC2b</th>\n",
       "      <th>Apop. NCSC</th>\n",
       "      <th>Apop. NSC</th>\n",
       "      <th>Donor_condition</th>\n",
       "    </tr>\n",
       "  </thead>\n",
       "  <tbody>\n",
       "    <tr>\n",
       "      <th>0</th>\n",
       "      <td>54</td>\n",
       "      <td>21</td>\n",
       "      <td>2350</td>\n",
       "      <td>181</td>\n",
       "      <td>100</td>\n",
       "      <td>534</td>\n",
       "      <td>112</td>\n",
       "      <td>63</td>\n",
       "      <td>31</td>\n",
       "      <td>UKERi1E4-R1-003_Control</td>\n",
       "    </tr>\n",
       "    <tr>\n",
       "      <th>1</th>\n",
       "      <td>0</td>\n",
       "      <td>28</td>\n",
       "      <td>6</td>\n",
       "      <td>273</td>\n",
       "      <td>271</td>\n",
       "      <td>677</td>\n",
       "      <td>111</td>\n",
       "      <td>0</td>\n",
       "      <td>28</td>\n",
       "      <td>UKERi1JF-R1-018_Control</td>\n",
       "    </tr>\n",
       "    <tr>\n",
       "      <th>2</th>\n",
       "      <td>0</td>\n",
       "      <td>13</td>\n",
       "      <td>383</td>\n",
       "      <td>82</td>\n",
       "      <td>81</td>\n",
       "      <td>124</td>\n",
       "      <td>67</td>\n",
       "      <td>46</td>\n",
       "      <td>56</td>\n",
       "      <td>UKERi82A-R1-002_Control</td>\n",
       "    </tr>\n",
       "    <tr>\n",
       "      <th>3</th>\n",
       "      <td>96</td>\n",
       "      <td>39</td>\n",
       "      <td>723</td>\n",
       "      <td>667</td>\n",
       "      <td>435</td>\n",
       "      <td>789</td>\n",
       "      <td>419</td>\n",
       "      <td>59</td>\n",
       "      <td>52</td>\n",
       "      <td>UKERi88H-R1-002_Parkinson</td>\n",
       "    </tr>\n",
       "    <tr>\n",
       "      <th>4</th>\n",
       "      <td>204</td>\n",
       "      <td>76</td>\n",
       "      <td>373</td>\n",
       "      <td>841</td>\n",
       "      <td>884</td>\n",
       "      <td>219</td>\n",
       "      <td>121</td>\n",
       "      <td>14</td>\n",
       "      <td>247</td>\n",
       "      <td>UKERiAY6-R1-003_Parkinson</td>\n",
       "    </tr>\n",
       "    <tr>\n",
       "      <th>5</th>\n",
       "      <td>220</td>\n",
       "      <td>45</td>\n",
       "      <td>290</td>\n",
       "      <td>1449</td>\n",
       "      <td>1267</td>\n",
       "      <td>762</td>\n",
       "      <td>372</td>\n",
       "      <td>12</td>\n",
       "      <td>165</td>\n",
       "      <td>UKERiC99-R1-007_Parkinson</td>\n",
       "    </tr>\n",
       "    <tr>\n",
       "      <th>6</th>\n",
       "      <td>98</td>\n",
       "      <td>25</td>\n",
       "      <td>13</td>\n",
       "      <td>1680</td>\n",
       "      <td>733</td>\n",
       "      <td>361</td>\n",
       "      <td>99</td>\n",
       "      <td>0</td>\n",
       "      <td>223</td>\n",
       "      <td>UKERiG3G-R1-039_Control</td>\n",
       "    </tr>\n",
       "    <tr>\n",
       "      <th>7</th>\n",
       "      <td>22</td>\n",
       "      <td>69</td>\n",
       "      <td>273</td>\n",
       "      <td>553</td>\n",
       "      <td>687</td>\n",
       "      <td>187</td>\n",
       "      <td>70</td>\n",
       "      <td>5</td>\n",
       "      <td>297</td>\n",
       "      <td>UKERiJ2C-R1-015_Parkinson</td>\n",
       "    </tr>\n",
       "    <tr>\n",
       "      <th>8</th>\n",
       "      <td>0</td>\n",
       "      <td>6</td>\n",
       "      <td>66</td>\n",
       "      <td>345</td>\n",
       "      <td>199</td>\n",
       "      <td>292</td>\n",
       "      <td>93</td>\n",
       "      <td>0</td>\n",
       "      <td>33</td>\n",
       "      <td>UKERiM89-R1-005_Parkinson</td>\n",
       "    </tr>\n",
       "    <tr>\n",
       "      <th>9</th>\n",
       "      <td>1</td>\n",
       "      <td>18</td>\n",
       "      <td>1</td>\n",
       "      <td>1629</td>\n",
       "      <td>675</td>\n",
       "      <td>275</td>\n",
       "      <td>63</td>\n",
       "      <td>1</td>\n",
       "      <td>83</td>\n",
       "      <td>UKERiO3H-R1-005_Control</td>\n",
       "    </tr>\n",
       "    <tr>\n",
       "      <th>10</th>\n",
       "      <td>21</td>\n",
       "      <td>48</td>\n",
       "      <td>108</td>\n",
       "      <td>225</td>\n",
       "      <td>148</td>\n",
       "      <td>1267</td>\n",
       "      <td>322</td>\n",
       "      <td>4</td>\n",
       "      <td>14</td>\n",
       "      <td>UKERiPX7-R1-001_Parkinson</td>\n",
       "    </tr>\n",
       "    <tr>\n",
       "      <th>11</th>\n",
       "      <td>275</td>\n",
       "      <td>116</td>\n",
       "      <td>418</td>\n",
       "      <td>768</td>\n",
       "      <td>719</td>\n",
       "      <td>160</td>\n",
       "      <td>74</td>\n",
       "      <td>7</td>\n",
       "      <td>156</td>\n",
       "      <td>UKERiR66-R1-007_Parkinson</td>\n",
       "    </tr>\n",
       "  </tbody>\n",
       "</table>\n",
       "</div>"
      ],
      "text/plain": [
       "louvain_final  Glial precursors  Immature neurons  NCSC  NSC1a  NSC1b  NSC2a  \\\n",
       "0                            54                21  2350    181    100    534   \n",
       "1                             0                28     6    273    271    677   \n",
       "2                             0                13   383     82     81    124   \n",
       "3                            96                39   723    667    435    789   \n",
       "4                           204                76   373    841    884    219   \n",
       "5                           220                45   290   1449   1267    762   \n",
       "6                            98                25    13   1680    733    361   \n",
       "7                            22                69   273    553    687    187   \n",
       "8                             0                 6    66    345    199    292   \n",
       "9                             1                18     1   1629    675    275   \n",
       "10                           21                48   108    225    148   1267   \n",
       "11                          275               116   418    768    719    160   \n",
       "\n",
       "louvain_final  NSC2b  Apop. NCSC  Apop. NSC            Donor_condition  \n",
       "0                112          63         31    UKERi1E4-R1-003_Control  \n",
       "1                111           0         28    UKERi1JF-R1-018_Control  \n",
       "2                 67          46         56    UKERi82A-R1-002_Control  \n",
       "3                419          59         52  UKERi88H-R1-002_Parkinson  \n",
       "4                121          14        247  UKERiAY6-R1-003_Parkinson  \n",
       "5                372          12        165  UKERiC99-R1-007_Parkinson  \n",
       "6                 99           0        223    UKERiG3G-R1-039_Control  \n",
       "7                 70           5        297  UKERiJ2C-R1-015_Parkinson  \n",
       "8                 93           0         33  UKERiM89-R1-005_Parkinson  \n",
       "9                 63           1         83    UKERiO3H-R1-005_Control  \n",
       "10               322           4         14  UKERiPX7-R1-001_Parkinson  \n",
       "11                74           7        156  UKERiR66-R1-007_Parkinson  "
      ]
     },
     "execution_count": 5,
     "metadata": {},
     "output_type": "execute_result"
    }
   ],
   "source": [
    "adata.obs['Donor_condition'] = adata.obs['Donor'].astype(str) + '_' + adata.obs['condition'].astype(str)\n",
    "cell_counts = pd.crosstab(adata.obs.Donor_condition, adata.obs.louvain_final)\n",
    "cell_counts['Donor_condition'] = cell_counts.index.tolist()\n",
    "cell_counts.reset_index(drop=True, inplace=True)\n",
    "cell_counts"
   ]
  },
  {
   "cell_type": "code",
   "execution_count": 6,
   "id": "3be2ee68",
   "metadata": {},
   "outputs": [
    {
     "name": "stdout",
     "output_type": "stream",
     "text": [
      "AnnData object with n_obs × n_vars = 12 × 9\n",
      "    obs: 'Donor_condition', 'Condition'\n"
     ]
    }
   ],
   "source": [
    "# Convert data to anndata object\n",
    "data_all = dat.from_pandas(cell_counts, covariate_columns=[\"Donor_condition\"])\n",
    "\n",
    "# Extract condition from mouse name and add it as an extra column to the covariates\n",
    "data_all.obs[\"Condition\"] = data_all.obs[\"Donor_condition\"].str.replace(r\".*_\", \"\")\n",
    "print(data_all)"
   ]
  },
  {
   "cell_type": "code",
   "execution_count": 7,
   "id": "1c4f7aca",
   "metadata": {},
   "outputs": [
    {
     "data": {
      "text/html": [
       "<div>\n",
       "<style scoped>\n",
       "    .dataframe tbody tr th:only-of-type {\n",
       "        vertical-align: middle;\n",
       "    }\n",
       "\n",
       "    .dataframe tbody tr th {\n",
       "        vertical-align: top;\n",
       "    }\n",
       "\n",
       "    .dataframe thead th {\n",
       "        text-align: right;\n",
       "    }\n",
       "</style>\n",
       "<table border=\"1\" class=\"dataframe\">\n",
       "  <thead>\n",
       "    <tr style=\"text-align: right;\">\n",
       "      <th>louvain_final</th>\n",
       "      <th>Donor_condition</th>\n",
       "      <th>Condition</th>\n",
       "    </tr>\n",
       "  </thead>\n",
       "  <tbody>\n",
       "    <tr>\n",
       "      <th>0</th>\n",
       "      <td>UKERi1E4-R1-003_Control</td>\n",
       "      <td>Control</td>\n",
       "    </tr>\n",
       "    <tr>\n",
       "      <th>1</th>\n",
       "      <td>UKERi1JF-R1-018_Control</td>\n",
       "      <td>Control</td>\n",
       "    </tr>\n",
       "    <tr>\n",
       "      <th>2</th>\n",
       "      <td>UKERi82A-R1-002_Control</td>\n",
       "      <td>Control</td>\n",
       "    </tr>\n",
       "    <tr>\n",
       "      <th>3</th>\n",
       "      <td>UKERi88H-R1-002_Parkinson</td>\n",
       "      <td>Parkinson</td>\n",
       "    </tr>\n",
       "    <tr>\n",
       "      <th>4</th>\n",
       "      <td>UKERiAY6-R1-003_Parkinson</td>\n",
       "      <td>Parkinson</td>\n",
       "    </tr>\n",
       "    <tr>\n",
       "      <th>5</th>\n",
       "      <td>UKERiC99-R1-007_Parkinson</td>\n",
       "      <td>Parkinson</td>\n",
       "    </tr>\n",
       "    <tr>\n",
       "      <th>6</th>\n",
       "      <td>UKERiG3G-R1-039_Control</td>\n",
       "      <td>Control</td>\n",
       "    </tr>\n",
       "    <tr>\n",
       "      <th>7</th>\n",
       "      <td>UKERiJ2C-R1-015_Parkinson</td>\n",
       "      <td>Parkinson</td>\n",
       "    </tr>\n",
       "    <tr>\n",
       "      <th>8</th>\n",
       "      <td>UKERiM89-R1-005_Parkinson</td>\n",
       "      <td>Parkinson</td>\n",
       "    </tr>\n",
       "    <tr>\n",
       "      <th>9</th>\n",
       "      <td>UKERiO3H-R1-005_Control</td>\n",
       "      <td>Control</td>\n",
       "    </tr>\n",
       "    <tr>\n",
       "      <th>10</th>\n",
       "      <td>UKERiPX7-R1-001_Parkinson</td>\n",
       "      <td>Parkinson</td>\n",
       "    </tr>\n",
       "    <tr>\n",
       "      <th>11</th>\n",
       "      <td>UKERiR66-R1-007_Parkinson</td>\n",
       "      <td>Parkinson</td>\n",
       "    </tr>\n",
       "  </tbody>\n",
       "</table>\n",
       "</div>"
      ],
      "text/plain": [
       "louvain_final            Donor_condition  Condition\n",
       "0                UKERi1E4-R1-003_Control    Control\n",
       "1                UKERi1JF-R1-018_Control    Control\n",
       "2                UKERi82A-R1-002_Control    Control\n",
       "3              UKERi88H-R1-002_Parkinson  Parkinson\n",
       "4              UKERiAY6-R1-003_Parkinson  Parkinson\n",
       "5              UKERiC99-R1-007_Parkinson  Parkinson\n",
       "6                UKERiG3G-R1-039_Control    Control\n",
       "7              UKERiJ2C-R1-015_Parkinson  Parkinson\n",
       "8              UKERiM89-R1-005_Parkinson  Parkinson\n",
       "9                UKERiO3H-R1-005_Control    Control\n",
       "10             UKERiPX7-R1-001_Parkinson  Parkinson\n",
       "11             UKERiR66-R1-007_Parkinson  Parkinson"
      ]
     },
     "execution_count": 7,
     "metadata": {},
     "output_type": "execute_result"
    }
   ],
   "source": [
    "data_all.obs"
   ]
  },
  {
   "cell_type": "code",
   "execution_count": 8,
   "id": "52c08d74",
   "metadata": {},
   "outputs": [
    {
     "data": {
      "text/plain": [
       "<AxesSubplot:xlabel='Cell type', ylabel='Proportion'>"
      ]
     },
     "execution_count": 8,
     "metadata": {},
     "output_type": "execute_result"
    },
    {
     "data": {
      "image/png": "[encoded data removed]",
      "text/plain": [
       "<Figure size 600x400 with 1 Axes>"
      ]
     },
     "metadata": {},
     "output_type": "display_data"
    }
   ],
   "source": [
    "viz.boxplots(data_all, feature_name=\"Condition\")\n",
    "plt.savefig('figures/sccoda_boxplot.pdf', bbox_inches='tight')\n",
    "plt.show()"
   ]
  },
  {
   "cell_type": "markdown",
   "id": "c11d6a23",
   "metadata": {},
   "source": [
    "### Create the model\n",
    "And run inference on it."
   ]
  },
  {
   "cell_type": "code",
   "execution_count": 9,
   "id": "1ac83d83",
   "metadata": {},
   "outputs": [
    {
     "name": "stdout",
     "output_type": "stream",
     "text": [
      "Automatic reference selection! Reference cell type set to Immature neurons\n"
     ]
    },
    {
     "name": "stderr",
     "output_type": "stream",
     "text": [
      "2022-03-31 16:10:51.838004: W tensorflow/stream_executor/platform/default/dso_loader.cc:64] Could not load dynamic library 'libcuda.so.1'; dlerror: libcuda.so.1: cannot open shared object file: No such file or directory\n",
      "2022-03-31 16:10:51.922886: W tensorflow/stream_executor/cuda/cuda_driver.cc:269] failed call to cuInit: UNKNOWN ERROR (303)\n",
      "2022-03-31 16:10:51.923025: I tensorflow/stream_executor/cuda/cuda_diagnostics.cc:156] kernel driver does not appear to be running on this host (icb-neu-002.scidom.de): /proc/driver/nvidia/version does not exist\n"
     ]
    },
    {
     "name": "stdout",
     "output_type": "stream",
     "text": [
      "Zero counts encountered in data! Added a pseudocount of 0.5.\n"
     ]
    },
    {
     "name": "stderr",
     "output_type": "stream",
     "text": [
      "2022-03-31 16:10:52.444665: I tensorflow/core/platform/cpu_feature_guard.cc:151] This TensorFlow binary is optimized with oneAPI Deep Neural Network Library (oneDNN) to use the following CPU instructions in performance-critical operations:  AVX2 AVX512F FMA\n",
      "To enable them in other operations, rebuild TensorFlow with the appropriate compiler flags.\n"
     ]
    }
   ],
   "source": [
    "model_all = mod.CompositionalAnalysis(data_all, formula=\"Condition\", reference_cell_type=\"automatic\")"
   ]
  },
  {
   "cell_type": "markdown",
   "id": "5580a18e",
   "metadata": {},
   "source": [
    "HMC sampling is then initiated."
   ]
  },
  {
   "cell_type": "code",
   "execution_count": 13,
   "id": "2e36b093",
   "metadata": {},
   "outputs": [
    {
     "name": "stdout",
     "output_type": "stream",
     "text": [
      "WARNING:tensorflow:@custom_gradient grad_fn has 'variables' in signature, but no ResourceVariables were used on the forward pass.\n",
      "WARNING:tensorflow:@custom_gradient grad_fn has 'variables' in signature, but no ResourceVariables were used on the forward pass.\n"
     ]
    },
    {
     "name": "stderr",
     "output_type": "stream",
     "text": [
      "2022-03-09 14:43:55.690476: I tensorflow/compiler/xla/service/service.cc:171] XLA service 0x7f4684010300 initialized for platform Host (this does not guarantee that XLA will be used). Devices:\n",
      "2022-03-09 14:43:55.690524: I tensorflow/compiler/xla/service/service.cc:179]   StreamExecutor device (0): Host, Default Version\n",
      "  0%|          | 0/20000 [00:00<?, ?it/s]2022-03-09 14:43:55.752578: I tensorflow/compiler/mlir/tensorflow/utils/dump_mlir_util.cc:237] disabling MLIR crash reproducer, set env var `MLIR_CRASH_REPRODUCER_DIRECTORY` to enable.\n",
      "2022-03-09 14:43:56.610605: I tensorflow/compiler/jit/xla_compilation_cache.cc:399] Compiled cluster using XLA!  This line is logged at most once for the lifetime of the process.\n",
      "100%|██████████| 20000/20000 [01:26<00:00, 231.45it/s]\n"
     ]
    },
    {
     "name": "stdout",
     "output_type": "stream",
     "text": [
      "MCMC sampling finished. (110.078 sec)\n",
      "Acceptance rate: 58.4%\n"
     ]
    }
   ],
   "source": [
    "# Run MCMC\n",
    "sim_results = model_all.sample_hmc()"
   ]
  },
  {
   "cell_type": "markdown",
   "id": "d9909d42",
   "metadata": {},
   "source": [
    "### Interpretation"
   ]
  },
  {
   "cell_type": "markdown",
   "id": "5cd2e87e",
   "metadata": {},
   "source": [
    "_Intercepts_ show how the cell types are distributed without any active covariates. _Effects_ show how the covariates influence the cell types."
   ]
  },
  {
   "cell_type": "code",
   "execution_count": 14,
   "id": "c4fdbf18",
   "metadata": {},
   "outputs": [
    {
     "name": "stdout",
     "output_type": "stream",
     "text": [
      "Compositional Analysis summary:\n",
      "\n",
      "Data: 12 samples, 9 cell types\n",
      "Reference index: 2\n",
      "Formula: Condition\n",
      "\n",
      "Intercepts:\n",
      "                  Final Parameter  Expected Sample\n",
      "Cell Type                                         \n",
      "Glial precursors           -1.034        85.851885\n",
      "Immature neurons           -0.749       114.162576\n",
      "NCSC                       -0.055       228.519955\n",
      "NSC1a                       0.992       651.074151\n",
      "NSC1b                       0.710       491.088099\n",
      "NSC2a                       0.741       506.550255\n",
      "NSC2b                      -0.048       230.125207\n",
      "Apop. NCSC                 -1.342        63.093865\n",
      "Apop. NSC                  -0.315       176.200674\n",
      "\n",
      "\n",
      "Effects:\n",
      "                                         Final Parameter  Expected Sample  \\\n",
      "Covariate              Cell Type                                            \n",
      "Condition[T.Parkinson] Glial precursors              0.0        85.851885   \n",
      "                       Immature neurons              0.0       114.162576   \n",
      "                       NCSC                          0.0       228.519955   \n",
      "                       NSC1a                         0.0       651.074151   \n",
      "                       NSC1b                         0.0       491.088099   \n",
      "                       NSC2a                         0.0       506.550255   \n",
      "                       NSC2b                         0.0       230.125207   \n",
      "                       Apop. NCSC                    0.0        63.093865   \n",
      "                       Apop. NSC                     0.0       176.200674   \n",
      "\n",
      "                                         log2-fold change  \n",
      "Covariate              Cell Type                           \n",
      "Condition[T.Parkinson] Glial precursors               0.0  \n",
      "                       Immature neurons               0.0  \n",
      "                       NCSC                           0.0  \n",
      "                       NSC1a                          0.0  \n",
      "                       NSC1b                          0.0  \n",
      "                       NSC2a                          0.0  \n",
      "                       NSC2b                          0.0  \n",
      "                       Apop. NCSC                     0.0  \n",
      "                       Apop. NSC                      0.0  \n"
     ]
    }
   ],
   "source": [
    "sim_results.summary()"
   ]
  },
  {
   "cell_type": "code",
   "execution_count": 15,
   "id": "6538dacf",
   "metadata": {},
   "outputs": [
    {
     "name": "stdout",
     "output_type": "stream",
     "text": [
      "Covariate               Cell Type       \n",
      "Condition[T.Parkinson]  Glial precursors    False\n",
      "                        Immature neurons    False\n",
      "                        NCSC                False\n",
      "                        NSC1a               False\n",
      "                        NSC1b               False\n",
      "                        NSC2a               False\n",
      "                        NSC2b               False\n",
      "                        Apop. NCSC          False\n",
      "                        Apop. NSC           False\n",
      "Name: Final Parameter, dtype: bool\n"
     ]
    }
   ],
   "source": [
    "print(sim_results.credible_effects())"
   ]
  },
  {
   "cell_type": "markdown",
   "id": "2a1aec23",
   "metadata": {},
   "source": [
    "### Adjusting the False discovery rate"
   ]
  },
  {
   "cell_type": "markdown",
   "id": "4e3bf508",
   "metadata": {},
   "source": [
    "Credible and non-credible effects depends on the false discovery rate (FDR).\n",
    "Default is 0.05 but we can increase it to be less conservative. We'll use 0.4, a common threshold in medical science."
   ]
  },
  {
   "cell_type": "code",
   "execution_count": 16,
   "id": "5ea45c7f",
   "metadata": {},
   "outputs": [
    {
     "name": "stdout",
     "output_type": "stream",
     "text": [
      "Compositional Analysis summary:\n",
      "\n",
      "Data: 12 samples, 9 cell types\n",
      "Reference index: 2\n",
      "Formula: Condition\n",
      "\n",
      "Intercepts:\n",
      "                  Final Parameter  Expected Sample\n",
      "Cell Type                                         \n",
      "Glial precursors           -1.034        85.851885\n",
      "Immature neurons           -0.749       114.162576\n",
      "NCSC                       -0.055       228.519955\n",
      "NSC1a                       0.992       651.074151\n",
      "NSC1b                       0.710       491.088099\n",
      "NSC2a                       0.741       506.550255\n",
      "NSC2b                      -0.048       230.125207\n",
      "Apop. NCSC                 -1.342        63.093865\n",
      "Apop. NSC                  -0.315       176.200674\n",
      "\n",
      "\n",
      "Effects:\n",
      "                                         Final Parameter  Expected Sample  \\\n",
      "Covariate              Cell Type                                            \n",
      "Condition[T.Parkinson] Glial precursors              0.0        85.851885   \n",
      "                       Immature neurons              0.0       114.162576   \n",
      "                       NCSC                          0.0       228.519955   \n",
      "                       NSC1a                         0.0       651.074151   \n",
      "                       NSC1b                         0.0       491.088099   \n",
      "                       NSC2a                         0.0       506.550255   \n",
      "                       NSC2b                         0.0       230.125207   \n",
      "                       Apop. NCSC                    0.0        63.093865   \n",
      "                       Apop. NSC                     0.0       176.200674   \n",
      "\n",
      "                                         log2-fold change  \n",
      "Covariate              Cell Type                           \n",
      "Condition[T.Parkinson] Glial precursors               0.0  \n",
      "                       Immature neurons               0.0  \n",
      "                       NCSC                           0.0  \n",
      "                       NSC1a                          0.0  \n",
      "                       NSC1b                          0.0  \n",
      "                       NSC2a                          0.0  \n",
      "                       NSC2b                          0.0  \n",
      "                       Apop. NCSC                     0.0  \n",
      "                       Apop. NSC                      0.0  \n"
     ]
    }
   ],
   "source": [
    "sim_results.set_fdr(est_fdr=0.4)\n",
    "sim_results.summary()"
   ]
  },
  {
   "cell_type": "code",
   "execution_count": 17,
   "id": "a2312948",
   "metadata": {},
   "outputs": [
    {
     "name": "stdout",
     "output_type": "stream",
     "text": [
      "Covariate               Cell Type       \n",
      "Condition[T.Parkinson]  Glial precursors    False\n",
      "                        Immature neurons    False\n",
      "                        NCSC                False\n",
      "                        NSC1a               False\n",
      "                        NSC1b               False\n",
      "                        NSC2a               False\n",
      "                        NSC2b               False\n",
      "                        Apop. NCSC          False\n",
      "                        Apop. NSC           False\n",
      "Name: Final Parameter, dtype: bool\n"
     ]
    }
   ],
   "source": [
    "print(sim_results.credible_effects())"
   ]
  },
  {
   "cell_type": "markdown",
   "id": "8a555d7c",
   "metadata": {},
   "source": [
    "## Saving results"
   ]
  },
  {
   "cell_type": "code",
   "execution_count": 18,
   "id": "e706869b",
   "metadata": {},
   "outputs": [
    {
     "name": "stdout",
     "output_type": "stream",
     "text": [
      "Compositional Analysis summary:\n",
      "\n",
      "Data: 12 samples, 9 cell types\n",
      "Reference index: 2\n",
      "Formula: Condition\n",
      "\n",
      "Intercepts:\n",
      "                  Final Parameter  Expected Sample\n",
      "Cell Type                                         \n",
      "Glial precursors           -1.034        85.851885\n",
      "Immature neurons           -0.749       114.162576\n",
      "NCSC                       -0.055       228.519955\n",
      "NSC1a                       0.992       651.074151\n",
      "NSC1b                       0.710       491.088099\n",
      "NSC2a                       0.741       506.550255\n",
      "NSC2b                      -0.048       230.125207\n",
      "Apop. NCSC                 -1.342        63.093865\n",
      "Apop. NSC                  -0.315       176.200674\n",
      "\n",
      "\n",
      "Effects:\n",
      "                                         Final Parameter  Expected Sample  \\\n",
      "Covariate              Cell Type                                            \n",
      "Condition[T.Parkinson] Glial precursors              0.0        85.851885   \n",
      "                       Immature neurons              0.0       114.162576   \n",
      "                       NCSC                          0.0       228.519955   \n",
      "                       NSC1a                         0.0       651.074151   \n",
      "                       NSC1b                         0.0       491.088099   \n",
      "                       NSC2a                         0.0       506.550255   \n",
      "                       NSC2b                         0.0       230.125207   \n",
      "                       Apop. NCSC                    0.0        63.093865   \n",
      "                       Apop. NSC                     0.0       176.200674   \n",
      "\n",
      "                                         log2-fold change  \n",
      "Covariate              Cell Type                           \n",
      "Condition[T.Parkinson] Glial precursors               0.0  \n",
      "                       Immature neurons               0.0  \n",
      "                       NCSC                           0.0  \n",
      "                       NSC1a                          0.0  \n",
      "                       NSC1b                          0.0  \n",
      "                       NSC2a                          0.0  \n",
      "                       NSC2b                          0.0  \n",
      "                       Apop. NCSC                     0.0  \n",
      "                       Apop. NSC                      0.0  \n"
     ]
    }
   ],
   "source": [
    "# saving\n",
    "path = \"/storage/groups/ml01/workspace/ciro.suastegui/2019_wurst_demuxlet/processed_data/sccoda\"\n",
    "sim_results.save(path)\n",
    "\n",
    "# loading\n",
    "with open(path, \"rb\") as f:\n",
    "    sim_results_2 = pkl.load(f)\n",
    "\n",
    "sim_results_2.summary()"
   ]
  }
 ],
 "metadata": {
  "kernelspec": {
   "display_name": "Python 3 (ipykernel)",
   "language": "python",
   "name": "python3"
  },
  "language_info": {
   "codemirror_mode": {
    "name": "ipython",
    "version": 3
   },
   "file_extension": ".py",
   "mimetype": "text/x-python",
   "name": "python",
   "nbconvert_exporter": "python",
   "pygments_lexer": "ipython3",
   "version": "3.9.5"
  }
 },
 "nbformat": 4,
 "nbformat_minor": 5
}
